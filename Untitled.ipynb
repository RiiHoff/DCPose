{
 "cells": [
  {
   "cell_type": "code",
   "execution_count": 6,
   "metadata": {},
   "outputs": [
    {
     "name": "stdout",
     "output_type": "stream",
     "text": [
      "[Errno 2] No such file or directory: 'demo'\n",
      "/home/iroha/IIM/DCPose/demo\n"
     ]
    }
   ],
   "source": [
    "cd demo"
   ]
  },
  {
   "cell_type": "code",
   "execution_count": 10,
   "metadata": {},
   "outputs": [
    {
     "name": "stdout",
     "output_type": "stream",
     "text": [
      "total 84\r\n",
      "drwxr-xr-x  2 iroha iroha  4096 Nov 27  2021 \u001b[0m\u001b[01;34m__pycache__\u001b[0m/\r\n",
      "-rw-r--r--  1 iroha iroha   602 Mar  8  2022 cog.py\r\n",
      "-rw-r--r--  1 iroha iroha   173 Oct 26  2021 fps.py\r\n",
      "-rw-r--r--  1 iroha iroha   595 Jan 11  2022 graph_plot.py\r\n",
      "drwxr-xr-x 34 iroha iroha 16384 Jun 29 00:44 \u001b[01;34minput\u001b[0m/\r\n",
      "drwxr-xr-x 14 iroha iroha  4096 Jun 24 21:58 \u001b[01;34mkekka\u001b[0m/\r\n",
      "-rw-r--r--  1 iroha iroha   632 Dec 14  2021 lumina_video.py\r\n",
      "drwxr-xr-x  6 iroha iroha 12288 Jun 24 22:22 \u001b[01;34moutput\u001b[0m/\r\n",
      "-rw-r--r--  1 iroha iroha  1223 Jan 11  2022 output_peek.py\r\n",
      "drwxr-xr-x  2 iroha iroha  4096 Jan 11  2022 \u001b[01;34mplt\u001b[0m/\r\n",
      "-rw-r--r--  1 iroha iroha   886 Dec  3  2021 plt.py\r\n",
      "-rw-r--r--  1 iroha iroha  3047 Jun 23 00:10 requ.txt\r\n",
      "drwxr-xr-x 34 iroha iroha  4096 Jun 29 10:43 \u001b[01;34mresults\u001b[0m/\r\n",
      "-rw-r--r--  1 iroha iroha 10603 Jun 29 09:05 video.py\r\n"
     ]
    }
   ],
   "source": [
    "ls -l"
   ]
  },
  {
   "cell_type": "code",
   "execution_count": 8,
   "metadata": {},
   "outputs": [
    {
     "ename": "SyntaxError",
     "evalue": "invalid syntax (<ipython-input-8-8d045c93d50a>, line 1)",
     "output_type": "error",
     "traceback": [
      "\u001b[0;36m  File \u001b[0;32m\"<ipython-input-8-8d045c93d50a>\"\u001b[0;36m, line \u001b[0;32m1\u001b[0m\n\u001b[0;31m    python video.py\u001b[0m\n\u001b[0m               ^\u001b[0m\n\u001b[0;31mSyntaxError\u001b[0m\u001b[0;31m:\u001b[0m invalid syntax\n"
     ]
    }
   ],
   "source": [
    "python video.py"
   ]
  },
  {
   "cell_type": "code",
   "execution_count": 9,
   "metadata": {},
   "outputs": [
    {
     "name": "stdout",
     "output_type": "stream",
     "text": [
      "a\n"
     ]
    }
   ],
   "source": [
    "print('a')"
   ]
  },
  {
   "cell_type": "code",
   "execution_count": null,
   "metadata": {},
   "outputs": [],
   "source": []
  },
  {
   "cell_type": "code",
   "execution_count": null,
   "metadata": {},
   "outputs": [],
   "source": []
  },
  {
   "cell_type": "code",
   "execution_count": null,
   "metadata": {},
   "outputs": [],
   "source": []
  }
 ],
 "metadata": {
  "kernelspec": {
   "display_name": "DCPose",
   "language": "python",
   "name": "dcpose"
  },
  "language_info": {
   "codemirror_mode": {
    "name": "ipython",
    "version": 3
   },
   "file_extension": ".py",
   "mimetype": "text/x-python",
   "name": "python",
   "nbconvert_exporter": "python",
   "pygments_lexer": "ipython3",
   "version": "3.6.12"
  }
 },
 "nbformat": 4,
 "nbformat_minor": 2
}
